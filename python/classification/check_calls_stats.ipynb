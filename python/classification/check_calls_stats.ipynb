{
 "cells": [
  {
   "cell_type": "code",
   "execution_count": 68,
   "metadata": {},
   "outputs": [],
   "source": [
    "%matplotlib inline\n",
    "\n",
    "import matplotlib\n",
    "import numpy as np\n",
    "import matplotlib.pyplot as plt\n",
    "from playground import parse_annotation\n",
    "from pathlib import Path"
   ]
  },
  {
   "cell_type": "code",
   "execution_count": 74,
   "metadata": {},
   "outputs": [
    {
     "name": "stdout",
     "output_type": "stream",
     "text": [
      "188\n"
     ]
    }
   ],
   "source": [
    "text_root_path = Path('/data/matlab_code/deep_voice/data_annotations')\n",
    "text_paths = list(text_root_path.glob('*.txt'))\n",
    "print(len(text_paths))\n",
    "all_calls = []"
   ]
  },
  {
   "cell_type": "code",
   "execution_count": 78,
   "metadata": {},
   "outputs": [
    {
     "name": "stdout",
     "output_type": "stream",
     "text": [
      "{'mic_num': '2', 'audio_name': '180911_161130', 'file_name': 'Looker_180911_161130(2,555,15)2019              3             19             22             33      58.516969.txt', 'start_time': 555.42714, 'end_time': 555.52, 'global_start_time': 555.0, 'duration': 15.0}\n"
     ]
    }
   ],
   "source": [
    "for txt_path in text_paths:\n",
    "    try:\n",
    "        calls = parse_annotation(txt_path)\n",
    "    except ValueError as error:\n",
    "        print(error)\n",
    "        print(f'The problematic file is {txt_path}')\n",
    "    all_calls = all_calls + calls\n",
    "print(all_calls[811])"
   ]
  },
  {
   "cell_type": "code",
   "execution_count": 77,
   "metadata": {},
   "outputs": [
    {
     "name": "stdout",
     "output_type": "stream",
     "text": [
      "the problematic call number is 811\n",
      "the problematic call number is 812\n",
      "the problematic call number is 823\n",
      "the problematic call number is 961\n"
     ]
    }
   ],
   "source": [
    "duration_vec = np.zeros(len(all_calls))\n",
    "for it, call in enumerate(all_calls):\n",
    "    call_duration = call['end_time'] - call['start_time']\n",
    "    duration_vec[it] = call_duration"
   ]
  },
  {
   "cell_type": "markdown",
   "metadata": {},
   "source": [
    "### print stats of signals"
   ]
  },
  {
   "cell_type": "code",
   "execution_count": 72,
   "metadata": {},
   "outputs": [
    {
     "name": "stdout",
     "output_type": "stream",
     "text": [
      "Longest call is:3.93719999999999\n",
      "Shortest call is:0.05570000000000164\n"
     ]
    },
    {
     "data": {
      "text/plain": [
       "(array([ 15.,  18.,  99., 123.,  77., 116.,  88.,  97.,  81.,  88.,  58.,\n",
       "         41.,  36.,  46.,  41.,  45.,  31.,  24.,  19.,  17.,  17.,  20.,\n",
       "          6.,  10.,   6.,  10.,   3.,   7.,   0.,   1.,   4.,   3.,   3.,\n",
       "          2.,   1.,   0.,   1.,   0.,   0.,   1.,   0.,   0.,   0.,   0.,\n",
       "          0.,   0.,   0.,   0.,   0.,   2.]),\n",
       " array([0.0557 , 0.13333, 0.21096, 0.28859, 0.36622, 0.44385, 0.52148,\n",
       "        0.59911, 0.67674, 0.75437, 0.832  , 0.90963, 0.98726, 1.06489,\n",
       "        1.14252, 1.22015, 1.29778, 1.37541, 1.45304, 1.53067, 1.6083 ,\n",
       "        1.68593, 1.76356, 1.84119, 1.91882, 1.99645, 2.07408, 2.15171,\n",
       "        2.22934, 2.30697, 2.3846 , 2.46223, 2.53986, 2.61749, 2.69512,\n",
       "        2.77275, 2.85038, 2.92801, 3.00564, 3.08327, 3.1609 , 3.23853,\n",
       "        3.31616, 3.39379, 3.47142, 3.54905, 3.62668, 3.70431, 3.78194,\n",
       "        3.85957, 3.9372 ]),\n",
       " <a list of 50 Patch objects>)"
      ]
     },
     "execution_count": 72,
     "metadata": {},
     "output_type": "execute_result"
    },
    {
     "data": {
      "image/png": "[encoded data removed]",
      "text/plain": [
       "<Figure size 432x288 with 1 Axes>"
      ]
     },
     "metadata": {},
     "output_type": "display_data"
    }
   ],
   "source": [
    "print(f'Longest call is:{duration_vec.max()}')\n",
    "print(f'Shortest call is:{duration_vec.min()}')\n",
    "\n",
    "plt.hist(duration_vec, bins = 50)\n"
   ]
  },
  {
   "cell_type": "code",
   "execution_count": 13,
   "metadata": {},
   "outputs": [
    {
     "ename": "NameError",
     "evalue": "name 'txt_file' is not defined",
     "output_type": "error",
     "traceback": [
      "\u001b[0;31m---------------------------------------------------------------------------\u001b[0m",
      "\u001b[0;31mNameError\u001b[0m                                 Traceback (most recent call last)",
      "\u001b[0;32m<ipython-input-13-5a2f73853b8e>\u001b[0m in \u001b[0;36m<module>\u001b[0;34m()\u001b[0m\n\u001b[0;32m----> 1\u001b[0;31m \u001b[0mprint\u001b[0m\u001b[0;34m(\u001b[0m\u001b[0mtxt_file\u001b[0m\u001b[0;34m)\u001b[0m\u001b[0;34m\u001b[0m\u001b[0;34m\u001b[0m\u001b[0m\n\u001b[0m",
      "\u001b[0;31mNameError\u001b[0m: name 'txt_file' is not defined"
     ]
    }
   ],
   "source": []
  }
 ],
 "metadata": {
  "kernelspec": {
   "display_name": "Python 3",
   "language": "python",
   "name": "python3"
  },
  "language_info": {
   "codemirror_mode": {
    "name": "ipython",
    "version": 3
   },
   "file_extension": ".py",
   "mimetype": "text/x-python",
   "name": "python",
   "nbconvert_exporter": "python",
   "pygments_lexer": "ipython3",
   "version": "3.6.8"
  }
 },
 "nbformat": 4,
 "nbformat_minor": 2
}
