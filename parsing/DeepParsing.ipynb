{
 "cells": [
  {
   "cell_type": "code",
   "execution_count": null,
   "metadata": {},
   "outputs": [],
   "source": [
    "import os, time\n",
    "import csv\n",
    "import shutil\n",
    "from pathlib import Path\n",
    "import librosa\n",
    "import datetime as dt"
   ]
  },
  {
   "cell_type": "markdown",
   "metadata": {},
   "source": [
    "## Create a list of all files in wanted directory"
   ]
  },
  {
   "cell_type": "code",
   "execution_count": 166,
   "metadata": {},
   "outputs": [
    {
     "name": "stdout",
     "output_type": "stream",
     "text": [
      "folder = /data/matlab_code/deep_voice/Recordings_2019/23.9.19/videos\n"
     ]
    }
   ],
   "source": [
    "#data parser\n",
    "#listing all files and modification datetime\n",
    "  \n",
    "files_dir = Path('/data/matlab_code/deep_voice/Recordings_2019/23.9.19/videos')\n",
    "\n",
    "date_file_list = []\n",
    "folders = [x for x in files_dir.iterdir() if x.is_dir()]\n",
    "if len(folders) == 0:\n",
    "    folders = [files_dir]\n",
    "    \n",
    "for folder in folders:\n",
    "    print(\"folder =\", folder)\n",
    "    # select the type of file, for instance *.jpg or all files *.*\n",
    "    for file in list(folder.glob('*.MP4')):\n",
    "        # retrieves the stats for the current file as a tuple\n",
    "        # (mode, ino, dev, nlink, uid, gid, size, atime, mtime, ctime)\n",
    "        # the tuple element mtime at index 8 is the last-modified-date\n",
    "        stats = file.stat()\n",
    "        # create tuple (year yyyy, month(1-12), day(1-31), hour(0-23), minute(0-59), second(0-59),\n",
    "        # weekday(0-6, 0 is monday), Julian day(1-366), daylight flag(-1,0 or 1)) from seconds since epoch\n",
    "        # note:  this tuple can be sorted properly by date and time\n",
    "#         lastmod_date = time.localtime(stats[8])\n",
    "        lastmod_date = stats[8]\n",
    "        #print image_file, lastmod_date   # test\n",
    "        # create list of tuples ready for sorting by date\n",
    "        date_file_tuple = lastmod_date, file\n",
    "        date_file_list.append(date_file_tuple)"
   ]
  },
  {
   "cell_type": "markdown",
   "metadata": {},
   "source": [
    "## looking for all recordings of a certain day"
   ]
  },
  {
   "cell_type": "code",
   "execution_count": 167,
   "metadata": {},
   "outputs": [
    {
     "name": "stdout",
     "output_type": "stream",
     "text": [
      "[{'start_time': 1569219505.0, 'end_time': 1569220349.301678, 'name': PosixPath('/data/matlab_code/deep_voice/Recordings_2019/23.9.19/ZOOM0002/190923-081830.hprj')}, {'start_time': 1569231235.0, 'end_time': 1569232565.196644, 'name': PosixPath('/data/matlab_code/deep_voice/Recordings_2019/23.9.19/ZOOM0003/190923-113400.hprj')}, {'start_time': 1569232616.0, 'end_time': 1569233495.8325624, 'name': PosixPath('/data/matlab_code/deep_voice/Recordings_2019/23.9.19/ZOOM0004/190923-115701.hprj')}, {'start_time': 1569237014.0, 'end_time': 1569237121.796644, 'name': PosixPath('/data/matlab_code/deep_voice/Recordings_2019/23.9.19/ZOOM0005/190923-131019.hprj')}]\n"
     ]
    }
   ],
   "source": [
    "recording_dir = Path('/data/matlab_code/deep_voice/Recordings_2019/23.9.19')\n",
    "recordings=[]\n",
    "times=[]\n",
    "buffer = 5 # time buffer for recordings\n",
    "\n",
    "recordings_paths = list(recording_dir.glob('**/*.hprj')) #all hprj files\n",
    "# print(recordings[0].stat().st_mtime) #example timestamp of one recording hprj\n",
    "\n",
    "for record in recordings_paths:\n",
    "    record_dict = {}\n",
    "    r = record.name\n",
    "    year = int(r[0:2]) + 2000\n",
    "    month = int(r[2:4])\n",
    "    day = int(r[4:6])\n",
    "    hour = int(r[7:9])\n",
    "    minute = int(r[9:11])\n",
    "    second = int(r[11:13])\n",
    "    rectime=time.mktime(dt.datetime(year,month,day,hour,minute,second).timetuple())\n",
    "    record_dict['start_time'] = rectime - buffer\n",
    "    record_duration = librosa.core.get_duration(filename=(record.parent / (record.parent.name + '_Tr1.WAV')))\n",
    "    record_dict['end_time'] = rectime + record_duration + buffer\n",
    "    record_dict['name'] = record\n",
    "    times.append(record_dict)\n",
    "\n",
    "def getKey(item):\n",
    "  return item['start_time']\n",
    "\n",
    "times = (sorted(times, key=getKey))\n",
    "print(times)"
   ]
  },
  {
   "cell_type": "markdown",
   "metadata": {},
   "source": [
    "## Create CSV files from directory"
   ]
  },
  {
   "cell_type": "code",
   "execution_count": 168,
   "metadata": {},
   "outputs": [
    {
     "name": "stdout",
     "output_type": "stream",
     "text": [
      "filename:                                last modified:\n",
      "C0021.MP4                                09/23/19 08:11:38 None\n",
      "C0022.MP4                                09/23/19 08:13:13 None\n",
      "C0023.MP4                                09/23/19 08:15:00 None\n",
      "C0024.MP4                                09/23/19 08:18:19 None\n",
      "C0030.MP4                                09/23/19 08:43:00 None\n",
      "C0031.MP4                                09/23/19 08:43:21 None\n",
      "C0032.MP4                                09/23/19 08:44:19 None\n",
      "C0033.MP4                                09/23/19 08:46:58 None\n",
      "C0034.MP4                                09/23/19 08:47:26 None\n",
      "C0035.MP4                                09/23/19 08:50:56 None\n",
      "C0036.MP4                                09/23/19 08:52:40 None\n",
      "C0037.MP4                                09/23/19 08:53:31 None\n"
     ]
    }
   ],
   "source": [
    "#print date_file_list  # test\n",
    "date_file_list.sort()\n",
    "file_names=[]\n",
    "file_dates=[]\n",
    "recordings_align=[]\n",
    "recordings_align_path=[]\n",
    "\n",
    "print(\"%-40s %s\" %(\"filename:\", \"last modified:\"))\n",
    "for file in date_file_list:\n",
    "    file_name = file[1].name\n",
    "    file_names.append(file_name)\n",
    "    # convert date tuple to MM/DD/YYYY HH:MM:SS format\n",
    "    file_date = time.strftime(\"%m/%d/%y %H:%M:%S\", time.localtime(file[0]))\n",
    "    file_dates.append(file_date)\n",
    "    alignment = None\n",
    "    alignement_path = None\n",
    "    for recording in times:\n",
    "        if alignment:\n",
    "            break\n",
    "        if file[0] > recording['start_time'] and file[0] < recording['end_time']:\n",
    "            alignment = recording['name'].name\n",
    "            alignement_path = recording['name'].parent\n",
    "    recordings_align.append(alignment)\n",
    "    recordings_align_path.append(alignement_path)\n",
    "    print(\"%-40s %s %s\" %(file_name, file_date, alignment))\n",
    "    \n",
    "with open (files_dir / 'tryme.csv', 'w', newline='') as fp:\n",
    "    writer=csv.writer(fp)\n",
    "    writer.writerow([\"Last Modified\",\"Name\", 'Alignment'])\n",
    "    for index, _ in enumerate(file_dates):\n",
    "        writer.writerow([file_dates[index],file_names[index], recordings_align[index]])"
   ]
  },
  {
   "cell_type": "markdown",
   "metadata": {},
   "source": [
    "## Move files to the audio directory"
   ]
  },
  {
   "cell_type": "code",
   "execution_count": 169,
   "metadata": {},
   "outputs": [],
   "source": [
    "video_formats = ['mov', 'mp4']\n",
    "stills_formats = ['arw', 'nef', 'jpg', 'jpeg']\n",
    "\n",
    "for item in times:\n",
    "    video_dir = item['name'].parent / 'videos'\n",
    "    stills_dir = item['name'].parent / 'stills'\n",
    "    video_dir.mkdir(exist_ok=True)\n",
    "    stills_dir.mkdir(exist_ok=True)\n",
    "\n",
    "for file_name, aligned_path  in zip(file_names, recordings_align_path):\n",
    "    if aligned_path:\n",
    "        if file_name.split('.')[-1].lower() in video_formats:\n",
    "            shutil.move(files_dir / file_name, aligned_path / 'videos' / file_name)\n",
    "        elif file_name.split('.')[-1].lower() in stills_formats:\n",
    "            shutil.move(files_dir / file_name, aligned_path / 'stills' / file_name)\n"
   ]
  },
  {
   "cell_type": "code",
   "execution_count": null,
   "metadata": {},
   "outputs": [],
   "source": []
  }
 ],
 "metadata": {
  "kernelspec": {
   "display_name": "Python 3",
   "language": "python",
   "name": "python3"
  },
  "language_info": {
   "codemirror_mode": {
    "name": "ipython",
    "version": 3
   },
   "file_extension": ".py",
   "mimetype": "text/x-python",
   "name": "python",
   "nbconvert_exporter": "python",
   "pygments_lexer": "ipython3",
   "version": "3.6.8"
  }
 },
 "nbformat": 4,
 "nbformat_minor": 2
}
