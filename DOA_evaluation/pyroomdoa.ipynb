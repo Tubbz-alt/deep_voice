{
 "cells": [
  {
   "cell_type": "markdown",
   "metadata": {},
   "source": [
    "# Pyroomacoustics Demo"
   ]
  },
  {
   "cell_type": "markdown",
   "metadata": {},
   "source": [
    "### dependencies:  pyroomacoustics, pysoundfile, samplerate"
   ]
  },
  {
   "cell_type": "code",
   "execution_count": 1,
   "metadata": {},
   "outputs": [],
   "source": [
    "import numpy as np\n",
    "import matplotlib.pyplot as plt\n",
    "from scipy.io import wavfile\n",
    "from scipy.signal import fftconvolve\n",
    "import IPython\n",
    "import pyroomacoustics as pra\n",
    "import soundfile\n",
    "\n",
    "plt.rcParams['font.size'] = 20\n",
    "plt.rcParams['xtick.labelsize'] = 15\n",
    "plt.rcParams['ytick.labelsize'] = 15\n",
    "\n",
    "%matplotlib inline\n",
    "\n",
    "import librosa\n",
    "import librosa.display\n",
    "import samplerate\n",
    "\n",
    "import IPython.display as ipd\n",
    "\n",
    "from scipy import signal\n",
    "\n",
    "import pyroomacoustics as pra\n",
    "from pyroomacoustics.doa import circ_dist\n",
    "\n",
    "import pandas as pd\n",
    "\n",
    "%load_ext autoreload\n",
    "%autoreload 2\n",
    "from doa_lib import *"
   ]
  },
  {
   "cell_type": "markdown",
   "metadata": {},
   "source": [
    "## Read file and show it in spectogram "
   ]
  },
  {
   "cell_type": "code",
   "execution_count": 46,
   "metadata": {},
   "outputs": [],
   "source": [
    "file_name = '../recordings/180910_142834.wav'\n",
    "signal_times=[[69.9, 70.6], [110.8, 111.7], [155.8, 156.7], [285.7, 286.3]]\n",
    "algo_name = 'MUSIC'\n",
    "hot_sig = 0\n",
    "\n",
    "ang_error = dict()\n",
    "\n",
    "for y_loc in range(2,9):\n",
    "    room_dim = [10000, 10, 10000]\n",
    "    r_source=np.c_[[5005, y_loc, 5000]]\n",
    "    r_rec=np.c_[\n",
    "        [5000, 4.5, 5000],  # mic 1\n",
    "        [5000, 5.5, 5000],  # mic 2\n",
    "        ]\n",
    "    \n",
    "    rx_center = r_rec.mean(axis=1, keepdims=True)\n",
    "    v = r_source-rx_center\n",
    "    base_vec = np.c_[[1,0,0]]\n",
    "    c = np.dot(v.T, base_vec)/np.linalg.norm(base_vec)/np.linalg.norm(v) # -> cosine of the angle\n",
    "    angle = np.arccos(np.clip(c, -1, 1)) # if you really want the angle\n",
    "    azimuth = [np.mod(2*np.pi+np.sign(v[1])[0]*angle[0,0],2*np.pi)]\n",
    "\n",
    "    # reshape into 1d numpy array\n",
    "    r_source = r_source[:,0]\n",
    "    \n",
    "    ang_error[y_loc] = []\n",
    "    \n",
    "    for times in signal_times:\n",
    "        data, fs = read_sound(file_name, time=times)\n",
    "\n",
    "        rec_signal = sim_room(data, fs, absorption=0.6, r_source=r_source, r_rec=r_rec, room_dim=room_dim)\n",
    "\n",
    "        for noise_ind in range(4): \n",
    "            rec_signal_noised = add_noise(rec_signal, SNR=10, noise_id=(noise_ind,noise_ind+1),\n",
    "                                          noise_location_doc='silence_180910_142834.txt')\n",
    "\n",
    "            if hot_sig:\n",
    "                clim = (-70,-20)\n",
    "                spect(data/np.sqrt(np.sum(data**2)), fs, figsize=[20,5])\n",
    "                plt.colorbar()\n",
    "                plt.clim(clim)\n",
    "\n",
    "                spect(rec_signal_noised[0,:], fs, figsize=[20,5])\n",
    "                plt.colorbar()\n",
    "                plt.clim(clim)\n",
    "\n",
    "                spect(rec_signal_noised[1,:], fs, figsize=[20,5])\n",
    "                plt.colorbar()\n",
    "                plt.clim(clim)\n",
    "                hot_sig = 0\n",
    "\n",
    "            nfft = 1024*8\n",
    "            overlap_ratio = 1\n",
    "            X = np.array([produce_spect_for_music(channel_sig, nfft=nfft, overlap_ratio=overlap_ratio, fft_type='stft')\n",
    "                          for channel_sig in rec_signal_noised])\n",
    "\n",
    "            doa = locate_source(X[:, :, :], r_rec, fs, nfft, algo_name, freq_range = [300., 800.])\n",
    "#             plot_doa(doa, azimuth, algo_name)\n",
    "            \n",
    "            angle_grid = doa.grid.azimuth*180/np.pi\n",
    "            doa_values = doa.grid.values\n",
    "            \n",
    "            ind_select = (angle_grid<90) | (angle_grid>270)\n",
    "            \n",
    "            select_angle = angle_grid[ind_select][np.argmax(doa_values[ind_select])]\n",
    "            \n",
    "            error_angle = np.abs(select_angle-azimuth[0]*180/np.pi)\n",
    "            \n",
    "            ang_error[y_loc].append(error_angle)\n",
    "\n",
    "#             raise(Exception('stop'))"
   ]
  },
  {
   "cell_type": "code",
   "execution_count": 51,
   "metadata": {},
   "outputs": [
    {
     "data": {
      "text/plain": [
       "{2: [4.963756532073489,\n",
       "  4.963756532073489,\n",
       "  4.963756532073489,\n",
       "  4.963756532073489,\n",
       "  2.036243467926454,\n",
       "  2.036243467926454,\n",
       "  2.036243467926454,\n",
       "  2.036243467926454,\n",
       "  9.963756532073546,\n",
       "  9.963756532073546,\n",
       "  9.963756532073546,\n",
       "  9.963756532073546,\n",
       "  0.9637565320734893,\n",
       "  0.9637565320734893,\n",
       "  0.9637565320734893,\n",
       "  0.9637565320734893],\n",
       " 3: [5.198590513648185,\n",
       "  5.198590513648185,\n",
       "  5.198590513648185,\n",
       "  5.198590513648185,\n",
       "  10.198590513648185,\n",
       "  10.198590513648185,\n",
       "  10.198590513648185,\n",
       "  10.198590513648185,\n",
       "  1.8014094863518153,\n",
       "  1.8014094863518153,\n",
       "  1.8014094863518153,\n",
       "  1.8014094863518153,\n",
       "  0.8014094863518153,\n",
       "  0.8014094863518153,\n",
       "  0.8014094863518153,\n",
       "  0.8014094863518153],\n",
       " 4: [4.690067525979714,\n",
       "  4.690067525979714,\n",
       "  4.690067525979714,\n",
       "  4.690067525979714,\n",
       "  10.69006752597977,\n",
       "  10.69006752597977,\n",
       "  10.69006752597977,\n",
       "  10.69006752597977,\n",
       "  9.69006752597977,\n",
       "  9.69006752597977,\n",
       "  9.69006752597977,\n",
       "  9.69006752597977,\n",
       "  346.69006752597977,\n",
       "  346.69006752597977,\n",
       "  346.69006752597977,\n",
       "  346.69006752597977],\n",
       " 5: [4.0,\n",
       "  4.0,\n",
       "  4.0,\n",
       "  4.0,\n",
       "  0.0,\n",
       "  0.0,\n",
       "  0.0,\n",
       "  0.0,\n",
       "  0.0,\n",
       "  0.0,\n",
       "  0.0,\n",
       "  0.0,\n",
       "  2.0,\n",
       "  2.0,\n",
       "  2.0,\n",
       "  2.0],\n",
       " 6: [11.309932474020195,\n",
       "  11.309932474020195,\n",
       "  11.309932474020195,\n",
       "  11.309932474020195,\n",
       "  7.309932474020195,\n",
       "  7.309932474020195,\n",
       "  7.309932474020195,\n",
       "  7.309932474020195,\n",
       "  5.690067525979805,\n",
       "  5.690067525979805,\n",
       "  5.690067525979805,\n",
       "  5.690067525979805,\n",
       "  5.690067525979805,\n",
       "  5.690067525979805,\n",
       "  5.690067525979805,\n",
       "  5.690067525979805],\n",
       " 7: [7.198590513648188,\n",
       "  7.198590513648188,\n",
       "  7.198590513648188,\n",
       "  7.198590513648188,\n",
       "  0.8014094863518118,\n",
       "  0.8014094863518118,\n",
       "  0.8014094863518118,\n",
       "  0.8014094863518118,\n",
       "  12.198590513648188,\n",
       "  12.198590513648188,\n",
       "  12.198590513648188,\n",
       "  12.198590513648188,\n",
       "  0.1985905136481847,\n",
       "  0.1985905136481847,\n",
       "  0.1985905136481847,\n",
       "  0.1985905136481847],\n",
       " 8: [0.03624346792648225,\n",
       "  0.03624346792648225,\n",
       "  0.03624346792648225,\n",
       "  0.03624346792648225,\n",
       "  2.0362434679264823,\n",
       "  2.0362434679264823,\n",
       "  2.0362434679264823,\n",
       "  2.0362434679264823,\n",
       "  16.963756532073518,\n",
       "  16.963756532073518,\n",
       "  16.963756532073518,\n",
       "  16.963756532073518,\n",
       "  20.963756532073518,\n",
       "  20.963756532073518,\n",
       "  20.963756532073518,\n",
       "  20.963756532073518]}"
      ]
     },
     "execution_count": 51,
     "metadata": {},
     "output_type": "execute_result"
    }
   ],
   "source": [
    "ang_error"
   ]
  },
  {
   "cell_type": "code",
   "execution_count": 68,
   "metadata": {},
   "outputs": [
    {
     "data": {
      "text/plain": [
       "array([[  4.96375653, 355.03624347],\n",
       "       [  4.96375653, 355.03624347],\n",
       "       [  4.96375653, 355.03624347],\n",
       "       [  4.96375653, 355.03624347],\n",
       "       [  2.03624347, 357.96375653],\n",
       "       [  2.03624347, 357.96375653],\n",
       "       [  2.03624347, 357.96375653],\n",
       "       [  2.03624347, 357.96375653],\n",
       "       [  9.96375653, 350.03624347],\n",
       "       [  9.96375653, 350.03624347],\n",
       "       [  9.96375653, 350.03624347],\n",
       "       [  9.96375653, 350.03624347],\n",
       "       [  0.96375653, 359.03624347],\n",
       "       [  0.96375653, 359.03624347],\n",
       "       [  0.96375653, 359.03624347],\n",
       "       [  0.96375653, 359.03624347]])"
      ]
     },
     "execution_count": 68,
     "metadata": {},
     "output_type": "execute_result"
    }
   ],
   "source": [
    "np.concatenate((error_list.reshape(-1,1), error_list_fliped.reshape(-1,1)), axis=1)"
   ]
  },
  {
   "cell_type": "code",
   "execution_count": 69,
   "metadata": {},
   "outputs": [
    {
     "name": "stdout",
     "output_type": "stream",
     "text": [
      "2 4.481878266036745\n",
      "3 4.5\n",
      "4 9.595033762989871\n",
      "5 1.5\n",
      "6 7.5\n",
      "7 5.099295256824093\n",
      "8 10.0\n"
     ]
    }
   ],
   "source": [
    "for s_depth in ang_error.keys():\n",
    "    error_list = np.array(ang_error[s_depth])\n",
    "    error_list_fliped = 360-error_list\n",
    "    error_list = np.min(np.concatenate((error_list.reshape(-1,1), error_list_fliped.reshape(-1,1)), axis=1), axis=1)\n",
    "    \n",
    "    print(s_depth, error_list.mean())"
   ]
  },
  {
   "cell_type": "code",
   "execution_count": 35,
   "metadata": {},
   "outputs": [],
   "source": [
    "angle_grid = doa.grid.azimuth*180/np.pi\n",
    "doa_values = doa.grid.values\n",
    "            \n",
    "ind_select = (angle_grid<90) | (angle_grid>270)\n"
   ]
  },
  {
   "cell_type": "code",
   "execution_count": 37,
   "metadata": {},
   "outputs": [
    {
     "data": {
      "image/png": "[encoded data removed]",
      "text/plain": [
       "<Figure size 432x288 with 1 Axes>"
      ]
     },
     "metadata": {
      "needs_background": "light"
     },
     "output_type": "display_data"
    }
   ],
   "source": [
    "plt.plot(doa.grid.azimuth[ind_select]*180/np.pi,doa.grid.values[ind_select])\n",
    "plt.show()"
   ]
  },
  {
   "cell_type": "code",
   "execution_count": 15,
   "metadata": {},
   "outputs": [
    {
     "ename": "NameError",
     "evalue": "name 'rec_signal' is not defined",
     "output_type": "error",
     "traceback": [
      "\u001b[0;31m---------------------------------------------------------------------------\u001b[0m",
      "\u001b[0;31mNameError\u001b[0m                                 Traceback (most recent call last)",
      "\u001b[0;32m<ipython-input-15-b252c8ee4598>\u001b[0m in \u001b[0;36m<module>\u001b[0;34m\u001b[0m\n\u001b[1;32m      2\u001b[0m \u001b[0;34m\u001b[0m\u001b[0m\n\u001b[1;32m      3\u001b[0m \u001b[0mplt\u001b[0m\u001b[0;34m.\u001b[0m\u001b[0mplot\u001b[0m\u001b[0;34m(\u001b[0m\u001b[0mdata\u001b[0m\u001b[0;34m[\u001b[0m\u001b[0;34m:\u001b[0m\u001b[0mextent\u001b[0m\u001b[0;34m]\u001b[0m\u001b[0;34m)\u001b[0m\u001b[0;34m\u001b[0m\u001b[0;34m\u001b[0m\u001b[0m\n\u001b[0;32m----> 4\u001b[0;31m \u001b[0mplt\u001b[0m\u001b[0;34m.\u001b[0m\u001b[0mplot\u001b[0m\u001b[0;34m(\u001b[0m\u001b[0mrec_signal\u001b[0m\u001b[0;34m[\u001b[0m\u001b[0;36m0\u001b[0m\u001b[0;34m,\u001b[0m\u001b[0;34m:\u001b[0m\u001b[0mextent\u001b[0m\u001b[0;34m]\u001b[0m\u001b[0;34m)\u001b[0m\u001b[0;34m\u001b[0m\u001b[0;34m\u001b[0m\u001b[0m\n\u001b[0m\u001b[1;32m      5\u001b[0m \u001b[0mplt\u001b[0m\u001b[0;34m.\u001b[0m\u001b[0mplot\u001b[0m\u001b[0;34m(\u001b[0m\u001b[0mrec_signal\u001b[0m\u001b[0;34m[\u001b[0m\u001b[0;36m1\u001b[0m\u001b[0;34m,\u001b[0m\u001b[0;34m:\u001b[0m\u001b[0mextent\u001b[0m\u001b[0;34m]\u001b[0m\u001b[0;34m)\u001b[0m\u001b[0;34m\u001b[0m\u001b[0;34m\u001b[0m\u001b[0m\n\u001b[1;32m      6\u001b[0m \u001b[0mplt\u001b[0m\u001b[0;34m.\u001b[0m\u001b[0mplot\u001b[0m\u001b[0;34m(\u001b[0m\u001b[0;36m0\u001b[0m\u001b[0;34m*\u001b[0m\u001b[0mrec_signal\u001b[0m\u001b[0;34m[\u001b[0m\u001b[0;36m1\u001b[0m\u001b[0;34m,\u001b[0m\u001b[0;34m:\u001b[0m\u001b[0mextent\u001b[0m\u001b[0;34m]\u001b[0m\u001b[0;34m)\u001b[0m\u001b[0;34m\u001b[0m\u001b[0;34m\u001b[0m\u001b[0m\n",
      "\u001b[0;31mNameError\u001b[0m: name 'rec_signal' is not defined"
     ]
    },
    {
     "data": {
      "image/png": "[encoded data removed]",
      "text/plain": [
       "<Figure size 432x288 with 1 Axes>"
      ]
     },
     "metadata": {
      "needs_background": "light"
     },
     "output_type": "display_data"
    }
   ],
   "source": [
    "extent = 10000\n",
    "\n",
    "plt.plot(data[:extent])\n",
    "plt.plot(rec_signal[0,:extent])\n",
    "plt.plot(rec_signal[1,:extent])\n",
    "plt.plot(0*rec_signal[1,:extent])\n",
    "plt.show()"
   ]
  },
  {
   "cell_type": "code",
   "execution_count": null,
   "metadata": {},
   "outputs": [],
   "source": []
  }
 ],
 "metadata": {
  "kernelspec": {
   "display_name": "Python 3",
   "language": "python",
   "name": "python3"
  },
  "language_info": {
   "codemirror_mode": {
    "name": "ipython",
    "version": 3
   },
   "file_extension": ".py",
   "mimetype": "text/x-python",
   "name": "python",
   "nbconvert_exporter": "python",
   "pygments_lexer": "ipython3",
   "version": "3.7.3"
  }
 },
 "nbformat": 4,
 "nbformat_minor": 2
}
